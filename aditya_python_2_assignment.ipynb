{
  "nbformat": 4,
  "nbformat_minor": 0,
  "metadata": {
    "colab": {
      "provenance": []
    },
    "kernelspec": {
      "name": "python3",
      "display_name": "Python 3"
    },
    "language_info": {
      "name": "python"
    }
  },
  "cells": [
    {
      "cell_type": "markdown",
      "source": [
        "**Question 1. What are the two values of the Boolean data type? How do you write them?**\n",
        "\n",
        "Two value of Boolean data type are 'TRUE' and 'FALSE'\n",
        "\n",
        "They are written as 'True' and 'False'"
      ],
      "metadata": {
        "id": "PnM3algwnuF3"
      }
    },
    {
      "cell_type": "code",
      "execution_count": null,
      "metadata": {
        "id": "wvGG447EnjZf",
        "colab": {
          "base_uri": "https://localhost:8080/"
        },
        "outputId": "654d11b3-5645-4723-eac9-4ed36ba91c27"
      },
      "outputs": [
        {
          "output_type": "stream",
          "name": "stdout",
          "text": [
            "Numerical value of \"True\" is: 1\n"
          ]
        }
      ],
      "source": [
        "print('Numerical value of \"True\" is:',int(True))"
      ]
    },
    {
      "cell_type": "code",
      "source": [
        "print('Numerical values of \"Fasle\" is:',int(False))"
      ],
      "metadata": {
        "id": "5PkfZD2Nnt2h",
        "colab": {
          "base_uri": "https://localhost:8080/"
        },
        "outputId": "0db491ee-95d9-4781-e26b-6f3803b0dcb8"
      },
      "execution_count": null,
      "outputs": [
        {
          "output_type": "stream",
          "name": "stdout",
          "text": [
            "Numerical values of \"Fasle\" is: 0\n"
          ]
        }
      ]
    },
    {
      "cell_type": "markdown",
      "source": [
        "**Question 2: What are the three different types of Boolean operators?**\n",
        "\n",
        "'AND', 'OR' and 'NOT' are three Boolean operators."
      ],
      "metadata": {
        "id": "7r784LBTNC-G"
      }
    },
    {
      "cell_type": "markdown",
      "source": [
        "**Question 3: Make a list of each Boolean operator's truth tables**\n",
        "\n",
        "**(i.e. every possible combination of Boolean values for the operator and what it evaluate ).**\n"
      ],
      "metadata": {
        "id": "8ayAyZmbNnRg"
      }
    },
    {
      "cell_type": "code",
      "source": [
        "x=8\n",
        "y=10\n",
        "z=20"
      ],
      "metadata": {
        "id": "GYoE1CnWMt64"
      },
      "execution_count": null,
      "outputs": []
    },
    {
      "cell_type": "code",
      "source": [
        "x==y and y>z"
      ],
      "metadata": {
        "colab": {
          "base_uri": "https://localhost:8080/"
        },
        "id": "FLndN9LJPtzd",
        "outputId": "46fc804e-1065-4552-a553-195c3e02062c"
      },
      "execution_count": null,
      "outputs": [
        {
          "output_type": "execute_result",
          "data": {
            "text/plain": [
              "False"
            ]
          },
          "metadata": {},
          "execution_count": 10
        }
      ]
    },
    {
      "cell_type": "code",
      "source": [
        "x==y or y<z"
      ],
      "metadata": {
        "colab": {
          "base_uri": "https://localhost:8080/"
        },
        "id": "tHglyoVkSqNl",
        "outputId": "12a99aab-3de0-4cca-e482-01659136ee2b"
      },
      "execution_count": null,
      "outputs": [
        {
          "output_type": "execute_result",
          "data": {
            "text/plain": [
              "True"
            ]
          },
          "metadata": {},
          "execution_count": 11
        }
      ]
    },
    {
      "cell_type": "code",
      "source": [
        "x!=y and y!=z"
      ],
      "metadata": {
        "colab": {
          "base_uri": "https://localhost:8080/"
        },
        "id": "jMYa6ks9TO2P",
        "outputId": "3bde0d95-d6e1-40c1-e42a-21a268861891"
      },
      "execution_count": null,
      "outputs": [
        {
          "output_type": "execute_result",
          "data": {
            "text/plain": [
              "True"
            ]
          },
          "metadata": {},
          "execution_count": 13
        }
      ]
    },
    {
      "cell_type": "code",
      "source": [
        "x==y and y!=z"
      ],
      "metadata": {
        "colab": {
          "base_uri": "https://localhost:8080/"
        },
        "id": "GvZpPW_NUMVc",
        "outputId": "77b11300-0794-436c-cde5-557c1bc664c8"
      },
      "execution_count": null,
      "outputs": [
        {
          "output_type": "execute_result",
          "data": {
            "text/plain": [
              "False"
            ]
          },
          "metadata": {},
          "execution_count": 15
        }
      ]
    },
    {
      "cell_type": "markdown",
      "source": [
        "**Question 4: What are the values of the following expressions?**\n",
        "\n",
        "**(i) (5 > 4) and (3 == 5)**\n",
        "\n",
        "**(ii) not (5 > 4)**\n",
        "\n",
        "**(iii) (5 > 4) or (3 == 5)**\n",
        "\n",
        "**(iv) not ((5 > 4) or (3 == 5))**\n",
        "\n",
        "**(v) (True and True) and (True == False)**\n",
        "\n",
        "**(vi) (not False) or (not True)**"
      ],
      "metadata": {
        "id": "aAcmOUPSmhxy"
      }
    },
    {
      "cell_type": "code",
      "source": [
        "print('(i) (5>4) and (3==5) : {}'.format((5>4) and (3==5)))\n",
        "print()\n",
        "print('(ii) not(5>4):{}'.format(not(5>4)))\n",
        "print()\n",
        "print('(iii) (5>4) or (3==5): {}'.format((5>4) or (3==5)))\n",
        "print()\n",
        "print('(iv) not((5>4) or (3==5))'.format(not((5>4) or (3==5))))\n",
        "print()\n",
        "print('(v) (True and True) and (True==False)): {}'.format((True and True) and (True==False)))\n",
        "print()\n",
        "print('(not False) or (not True) : {}'.format((not False) or (not True)))\n"
      ],
      "metadata": {
        "colab": {
          "base_uri": "https://localhost:8080/"
        },
        "id": "TrlQT8tamZ0c",
        "outputId": "ecd2055f-4029-43f0-bc22-df7f00b114d8"
      },
      "execution_count": null,
      "outputs": [
        {
          "output_type": "stream",
          "name": "stdout",
          "text": [
            "(i) (5>4) and (3==5) : False\n",
            "\n",
            "(ii) not(5>4):False\n",
            "\n",
            "(iii) (5>4) or (3==5): True\n",
            "\n",
            "(iv) not((5>4) or (3==5))\n",
            "\n",
            "(v) (True and True) and (True==False)): False\n",
            "\n",
            "(not False) or (not True) : True\n"
          ]
        }
      ]
    },
    {
      "cell_type": "markdown",
      "source": [
        "**Question 5: What are the six comparison operators?**\n",
        "\n",
        "Six comparison operators are\n",
        "\n",
        "  1. Less than - <\n",
        "  2. Greater than - >\n",
        "  3. Equal to - ==\n",
        "  4. Less than or equal to - <=\n",
        "  5. Greater than or equal to - >=\n",
        "  6. Not Equal to - !="
      ],
      "metadata": {
        "id": "D6AvWB_XUH5p"
      }
    },
    {
      "cell_type": "markdown",
      "source": [
        "**Question 6: How do you tell the difference between the equal to and assignment operators?**\n",
        "\n",
        "**Describe a condition and when you would use one.**\n",
        "\n",
        "= --> Assignment Operator\n",
        "\n",
        "x = 5\n",
        "Assigning the value of 5 to a variable x. An object by the name 'x' is created and assigned a value 5.\n",
        "\n",
        "A object is created by PVM and and indivudual ID number is assigned to it."
      ],
      "metadata": {
        "id": "M9Z6558IUxUF"
      }
    },
    {
      "cell_type": "code",
      "source": [
        "print('The value of \"x\" is:',x)\n",
        "print('ID of the variable \"x\" is:',id(x))"
      ],
      "metadata": {
        "id": "f1SVPDeVrJMr",
        "colab": {
          "base_uri": "https://localhost:8080/"
        },
        "outputId": "19360d95-478f-47dd-b1d3-f6687b87d245"
      },
      "execution_count": null,
      "outputs": [
        {
          "output_type": "stream",
          "name": "stdout",
          "text": [
            "The value of \"x\" is: 5\n",
            "ID of the variable \"x\" is: 140248638357872\n"
          ]
        }
      ]
    },
    {
      "cell_type": "markdown",
      "source": [
        "== --> Equal to operator.\n",
        "\n",
        "Equal to operator is used for value and content comparison\n",
        "\n",
        "Whether the two variable or elements are are of equal value."
      ],
      "metadata": {
        "id": "mSHTJn9xWPgX"
      }
    },
    {
      "cell_type": "code",
      "source": [
        "# Case 1 - Value comparison\n",
        "\n",
        "x=100\n",
        "y=10\n",
        "print(x==y)\n",
        "print()\n",
        "print()\n",
        "\n",
        "# Case 2 - Content comparison\n",
        "           # When a same value is assigned to two different variables, PVM will point the two variable to same object\n",
        "\n",
        "x = 100\n",
        "y = 100\n",
        "\n",
        "print('Case-2 - Content comaprison:',id(x)==id(y))\n",
        "print('id(x) is {} and id(y) is {}'.format(id(x),id(y)))\n",
        "print()\n",
        "print()\n",
        "# Case 3 - ID Comparison\n",
        "\n",
        "a = 10\n",
        "b= 20\n",
        "\n",
        "print('Case-3 - ID comparison:',id(a)==id(b))"
      ],
      "metadata": {
        "colab": {
          "base_uri": "https://localhost:8080/"
        },
        "id": "zBqW5-c0VZOx",
        "outputId": "0bd61d07-2e19-4758-980e-5161f5a92d4a"
      },
      "execution_count": null,
      "outputs": [
        {
          "output_type": "stream",
          "name": "stdout",
          "text": [
            "False\n",
            "\n",
            "\n",
            "Case-2 - Content comaprison: True\n",
            "id(x) is 140248638360912 and id(y) is 140248638360912\n",
            "\n",
            "\n",
            "Case-3 - ID comparison: False\n"
          ]
        }
      ]
    },
    {
      "cell_type": "markdown",
      "source": [
        "**7. Identify the three blocks in this code: spam = 0 if spam == 10: print('eggs')\n",
        "if spam > 5:\n",
        "print('bacon')\n",
        "else:\n",
        "print('ham')\n",
        "print('spam')\n",
        "print('spam')**\n",
        "\n",
        "\n",
        "There are three blocks in the code.\n",
        "\n",
        "First block: After first 'if' block print('eggs')\n",
        "\n",
        "second block: After second 'if' block print('ham')\n",
        "\n",
        "thord block: After 'else' print('ham') ('spam') ('spam')\n"
      ],
      "metadata": {
        "id": "GjKtLFy1YqVX"
      }
    },
    {
      "cell_type": "code",
      "source": [
        "spam = 0\n",
        "if spam == 10:\n",
        "  print('eggs')\n",
        "if spam > 5:\n",
        "  print('bacon')\n",
        "else:\n",
        "  print('ham')\n",
        "  print('spam')\n",
        "  print('spam')"
      ],
      "metadata": {
        "id": "8kxF4eHAWrs1",
        "colab": {
          "base_uri": "https://localhost:8080/"
        },
        "outputId": "54a3adbf-b640-47be-e47b-23fc20fec757"
      },
      "execution_count": null,
      "outputs": [
        {
          "output_type": "stream",
          "name": "stdout",
          "text": [
            "ham\n",
            "spam\n",
            "spam\n"
          ]
        }
      ]
    },
    {
      "cell_type": "markdown",
      "source": [
        "**Question 8: Write code that prints Hello if 1 is stored in spam, prints**\n",
        "**Howdy if 2 is stored in spam, and prints Greetings! if anything else**\n",
        "**is stored**"
      ],
      "metadata": {
        "id": "GAGDIpESTrpR"
      }
    },
    {
      "cell_type": "code",
      "source": [
        "spam=int(input('Enter the value of spam:'))\n",
        "if spam==1:\n",
        "  print('Hello')\n",
        "elif spam==2:\n",
        "  print('Howdy')\n",
        "else:\n",
        "  print('Greetings!')"
      ],
      "metadata": {
        "colab": {
          "base_uri": "https://localhost:8080/"
        },
        "id": "p6NPSf__7V2N",
        "outputId": "e25bc430-1e24-4ca6-cd72-645a92634562"
      },
      "execution_count": null,
      "outputs": [
        {
          "output_type": "stream",
          "name": "stdout",
          "text": [
            "Enter the value of spam:10\n",
            "Greetings!\n"
          ]
        }
      ]
    },
    {
      "cell_type": "markdown",
      "source": [
        "**Question 9: If your programme is stuck in an endless loop, what keys you’ll press?**\n",
        "\n",
        "Ctrl + C"
      ],
      "metadata": {
        "id": "d-mEuFrFcvwR"
      }
    },
    {
      "cell_type": "markdown",
      "source": [
        "**Question 10: How can you tell the difference between break and continue?**\n",
        "\n",
        "We can use loop statements inside the loop to break execution based on some condition."
      ],
      "metadata": {
        "id": "b2zhzKwtdTSx"
      }
    },
    {
      "cell_type": "code",
      "source": [
        "# Example 1-1 for break statement usage\n",
        "\n",
        "cart=[100,20,30,500,700,45,34]\n",
        "\n",
        "for item in cart:\n",
        "  if item>=500:\n",
        "    print('To place this order insurance must be required')\n",
        "    break\n",
        "  print(item)"
      ],
      "metadata": {
        "colab": {
          "base_uri": "https://localhost:8080/"
        },
        "id": "OseHlbx-cPUW",
        "outputId": "f4087eb6-6fbc-4435-a190-a7cafe1201da"
      },
      "execution_count": null,
      "outputs": [
        {
          "output_type": "stream",
          "name": "stdout",
          "text": [
            "100\n",
            "20\n",
            "30\n",
            "To place this order insurance must be required\n"
          ]
        }
      ]
    },
    {
      "cell_type": "code",
      "source": [
        "# Example 1-2 for continue statement usage\n",
        "\n",
        "cart= [100,20,30,500,700,45,34]\n",
        "\n",
        "for item in cart:\n",
        "  if item>=500:\n",
        "    print('To place this order insurance must be required')\n",
        "    continue\n",
        "  print(item)"
      ],
      "metadata": {
        "colab": {
          "base_uri": "https://localhost:8080/"
        },
        "id": "sPTyLmgrhmIZ",
        "outputId": "dc4443f0-5c00-4ef7-d4b2-10a6af260195"
      },
      "execution_count": null,
      "outputs": [
        {
          "output_type": "stream",
          "name": "stdout",
          "text": [
            "100\n",
            "20\n",
            "30\n",
            "To place this order insurance must be required\n",
            "To place this order insurance must be required\n",
            "45\n",
            "34\n"
          ]
        }
      ]
    },
    {
      "cell_type": "code",
      "source": [
        "# Example 2-1 for continue statement usage\n",
        "for i in range(10):\n",
        "  if i%2==0:\n",
        "    continue\n",
        "  print(i)"
      ],
      "metadata": {
        "colab": {
          "base_uri": "https://localhost:8080/"
        },
        "id": "Kny2ra-FiJpl",
        "outputId": "0e8b7ba3-d579-450a-c639-6e9863c0265c"
      },
      "execution_count": null,
      "outputs": [
        {
          "output_type": "stream",
          "name": "stdout",
          "text": [
            "1\n",
            "3\n",
            "5\n",
            "7\n",
            "9\n"
          ]
        }
      ]
    },
    {
      "cell_type": "code",
      "source": [
        "# Example 2-2 for break statement usage\n",
        "\n",
        "for i in range(10):\n",
        "  if i%2==0:\n",
        "    break\n",
        "  print(i)"
      ],
      "metadata": {
        "id": "cAmG2SVmif8y"
      },
      "execution_count": null,
      "outputs": []
    },
    {
      "cell_type": "markdown",
      "source": [
        "**Question 11: In a for loop, what is the difference between range(10),\n",
        "range(0, 10), and range(0, 10, 1)?**\n",
        "\n",
        "**range(10) :**\n",
        "\n",
        "0 ~ 9 Logic behind that is for range(n) Python will start counting from zero to 10th number, which is 9 (including zero).\n",
        "\n",
        "Python uses zero indexing.\n",
        "\n",
        "**range(0,10):**\n",
        "\n",
        "range(0,10) also means the same as range(10). It means starting from zero till 10th number.\n",
        "\n",
        "\n",
        "**range(0,10,1):**\n",
        "\n",
        "range(0,10,1) means, from zero to the 10th number in the increment of 1,\n",
        "\n",
        "means 0 ~ 9. It means the same as range(0,10) and range(10)."
      ],
      "metadata": {
        "id": "PQumY0bSbwWo"
      }
    },
    {
      "cell_type": "code",
      "source": [
        "for i in range(10):\n",
        "  print('Result for range(10):',i)"
      ],
      "metadata": {
        "id": "2JA87jAOjWG0",
        "colab": {
          "base_uri": "https://localhost:8080/"
        },
        "outputId": "b9700980-85ea-440b-99a1-53f2b8728670"
      },
      "execution_count": null,
      "outputs": [
        {
          "output_type": "stream",
          "name": "stdout",
          "text": [
            "Result for range(10) 0\n",
            "Result for range(10) 1\n",
            "Result for range(10) 2\n",
            "Result for range(10) 3\n",
            "Result for range(10) 4\n",
            "Result for range(10) 5\n",
            "Result for range(10) 6\n",
            "Result for range(10) 7\n",
            "Result for range(10) 8\n",
            "Result for range(10) 9\n"
          ]
        }
      ]
    },
    {
      "cell_type": "code",
      "source": [
        "for i in range(0,10):\n",
        "  print('Result for range(0,10):',i)"
      ],
      "metadata": {
        "colab": {
          "base_uri": "https://localhost:8080/"
        },
        "id": "AxBNgo0rfVc4",
        "outputId": "4a0cebf0-cb80-4213-f194-e22a7c5ace73"
      },
      "execution_count": null,
      "outputs": [
        {
          "output_type": "stream",
          "name": "stdout",
          "text": [
            "Result for range(0,10): 0\n",
            "Result for range(0,10): 1\n",
            "Result for range(0,10): 2\n",
            "Result for range(0,10): 3\n",
            "Result for range(0,10): 4\n",
            "Result for range(0,10): 5\n",
            "Result for range(0,10): 6\n",
            "Result for range(0,10): 7\n",
            "Result for range(0,10): 8\n",
            "Result for range(0,10): 9\n"
          ]
        }
      ]
    },
    {
      "cell_type": "code",
      "source": [
        "for i in range(0,10,1):\n",
        "  print('Resut for range(0,10,1):',i)"
      ],
      "metadata": {
        "colab": {
          "base_uri": "https://localhost:8080/"
        },
        "id": "mIp49s3CfiXG",
        "outputId": "7c427c5c-0db6-4e9b-98db-0f43cc3471d4"
      },
      "execution_count": null,
      "outputs": [
        {
          "output_type": "stream",
          "name": "stdout",
          "text": [
            "Resut for range(0,10,1): 0\n",
            "Resut for range(0,10,1): 1\n",
            "Resut for range(0,10,1): 2\n",
            "Resut for range(0,10,1): 3\n",
            "Resut for range(0,10,1): 4\n",
            "Resut for range(0,10,1): 5\n",
            "Resut for range(0,10,1): 6\n",
            "Resut for range(0,10,1): 7\n",
            "Resut for range(0,10,1): 8\n",
            "Resut for range(0,10,1): 9\n"
          ]
        }
      ]
    },
    {
      "cell_type": "markdown",
      "source": [
        "**Question 12: Write a short program that prints the numbers 1 to 10 using a for loop. Then write an equivalent program that prints the numbers 1 to 10 using a while loop.**"
      ],
      "metadata": {
        "id": "GOIMoh_Sf1pZ"
      }
    },
    {
      "cell_type": "code",
      "source": [
        "# Using for loop\n",
        "print('Printing numbers 1 to 10 using for loop ')\n",
        "for i in range(0,11,1):\n",
        "  print(i)"
      ],
      "metadata": {
        "colab": {
          "base_uri": "https://localhost:8080/"
        },
        "id": "jj2Jjak0f-JQ",
        "outputId": "138b1b85-294e-414c-f276-ef4b8634ab2d"
      },
      "execution_count": null,
      "outputs": [
        {
          "output_type": "stream",
          "name": "stdout",
          "text": [
            "Printing numbers 1 to 10 using for loop \n",
            "0\n",
            "1\n",
            "2\n",
            "3\n",
            "4\n",
            "5\n",
            "6\n",
            "7\n",
            "8\n",
            "9\n",
            "10\n"
          ]
        }
      ]
    },
    {
      "cell_type": "code",
      "source": [
        "print('Printing numbers 1 to 10 using while loop')\n",
        "i=0\n",
        "while i<=10:\n",
        "  print(i)\n",
        "  i=i+1"
      ],
      "metadata": {
        "colab": {
          "base_uri": "https://localhost:8080/"
        },
        "id": "v9ApFIOZgPCM",
        "outputId": "13391f6f-531f-462a-8057-74d2a7607957"
      },
      "execution_count": null,
      "outputs": [
        {
          "output_type": "stream",
          "name": "stdout",
          "text": [
            "Printing numbers 1 to 10 using while loop\n",
            "0\n",
            "1\n",
            "2\n",
            "3\n",
            "4\n",
            "5\n",
            "6\n",
            "7\n",
            "8\n",
            "9\n",
            "10\n"
          ]
        }
      ]
    },
    {
      "cell_type": "markdown",
      "source": [
        "**Question 13: If you had a function named bacon() inside a module named spam, how would you call it after importing spam?**\n",
        "\n",
        "spam.bacon()"
      ],
      "metadata": {
        "id": "J_Gr8B0hiCaP"
      }
    },
    {
      "cell_type": "code",
      "source": [],
      "metadata": {
        "id": "f08dJTE0Mrxd"
      },
      "execution_count": null,
      "outputs": []
    }
  ]
}