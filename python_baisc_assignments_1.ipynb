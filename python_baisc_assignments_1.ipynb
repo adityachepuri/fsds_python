{
  "nbformat": 4,
  "nbformat_minor": 0,
  "metadata": {
    "colab": {
      "provenance": []
    },
    "kernelspec": {
      "name": "python3",
      "display_name": "Python 3"
    },
    "language_info": {
      "name": "python"
    }
  },
  "cells": [
    {
      "cell_type": "markdown",
      "source": [
        "\n",
        "\n",
        "**PYTHON BASIC - ASSIGNMENT - 1**"
      ],
      "metadata": {
        "id": "qwHxvxL_6bEI"
      }
    },
    {
      "cell_type": "markdown",
      "source": [
        "Question 1)\n",
        "\n",
        "In the below elements which of them are values or an expression? \n",
        "\n",
        "eg:- values can be integer or string and expressions will be mathematical operators.\n",
        "\n",
        "'* \n",
        "\n",
        "''hello'\n",
        "\n",
        "'-87.8\n",
        "\n",
        "'- \n",
        "\n",
        "'/ \n",
        "\n",
        "'+\t\n",
        "\n",
        "'6"
      ],
      "metadata": {
        "id": "T91aETK463Vo"
      }
    },
    {
      "cell_type": "code",
      "execution_count": null,
      "metadata": {
        "id": "Vb4H_1cc3UIz",
        "colab": {
          "base_uri": "https://localhost:8080/"
        },
        "outputId": "43ab3566-7b47-474c-aced-80313f1a6dc6"
      },
      "outputs": [
        {
          "output_type": "stream",
          "name": "stdout",
          "text": [
            "* is mathematical operator, which is used for multiplication\n"
          ]
        }
      ],
      "source": [
        "print('* is mathematical operator, which is used for multiplication')"
      ]
    },
    {
      "cell_type": "code",
      "source": [
        "x='hello'\n",
        "print(\"'hello' is:\",type(x))"
      ],
      "metadata": {
        "colab": {
          "base_uri": "https://localhost:8080/"
        },
        "id": "d9D7vQUD7evv",
        "outputId": "5a9fd8f6-84eb-4731-ead6-5319626e1746"
      },
      "execution_count": null,
      "outputs": [
        {
          "output_type": "stream",
          "name": "stdout",
          "text": [
            "'hello' is: <class 'str'>\n"
          ]
        }
      ]
    },
    {
      "cell_type": "code",
      "source": [
        "y=-87.8\n",
        "print('-87.8 is:',type(y))"
      ],
      "metadata": {
        "colab": {
          "base_uri": "https://localhost:8080/"
        },
        "id": "I8GkZjiFB8X_",
        "outputId": "50727fe8-bc8e-4661-93ec-37dd3d8b09eb"
      },
      "execution_count": null,
      "outputs": [
        {
          "output_type": "stream",
          "name": "stdout",
          "text": [
            "-87.8 is: <class 'float'>\n"
          ]
        }
      ]
    },
    {
      "cell_type": "code",
      "source": [
        "print(\" '-' is mathematical operator, which is used for subtraction\")\n",
        "print('Example:',100-50)"
      ],
      "metadata": {
        "colab": {
          "base_uri": "https://localhost:8080/"
        },
        "id": "dH6ALPkMCKBE",
        "outputId": "4ab19456-8fb2-4ab6-bfe8-d352b57580db"
      },
      "execution_count": null,
      "outputs": [
        {
          "output_type": "stream",
          "name": "stdout",
          "text": [
            " '-' is mathematical operator, which is used for substraction\n",
            "Example: 50\n"
          ]
        }
      ]
    },
    {
      "cell_type": "code",
      "source": [
        "print(\" '/' is a mathematical operator, which is used for division\")\n",
        "print('Example:',100/50)"
      ],
      "metadata": {
        "colab": {
          "base_uri": "https://localhost:8080/"
        },
        "id": "So0kPStZCXjZ",
        "outputId": "a19cdaed-34c5-4b63-85ee-840eba596b8e"
      },
      "execution_count": null,
      "outputs": [
        {
          "output_type": "stream",
          "name": "stdout",
          "text": [
            " '/' is a mathematical operator, which is used for division\n",
            "Example: 2.0\n"
          ]
        }
      ]
    },
    {
      "cell_type": "code",
      "source": [
        "print(\" '+' is a mathematical operator, which is used for addition\")\n",
        "print('Example:',100+50)"
      ],
      "metadata": {
        "colab": {
          "base_uri": "https://localhost:8080/"
        },
        "id": "7A7B5c0PCgsL",
        "outputId": "48dc1dc3-de77-42e6-fae9-50826c1b6b10"
      },
      "execution_count": null,
      "outputs": [
        {
          "output_type": "stream",
          "name": "stdout",
          "text": [
            " '+' is a mathematical operator, which is used for addition\n",
            "Example: 150\n"
          ]
        }
      ]
    },
    {
      "cell_type": "code",
      "source": [
        "print(' 6 is:',type(6))"
      ],
      "metadata": {
        "colab": {
          "base_uri": "https://localhost:8080/"
        },
        "id": "tOH2ET6kDPgy",
        "outputId": "4f9beb3e-f680-4077-ebd7-8b7ecb074205"
      },
      "execution_count": null,
      "outputs": [
        {
          "output_type": "stream",
          "name": "stdout",
          "text": [
            " 6 is: <class 'int'>\n"
          ]
        }
      ]
    },
    {
      "cell_type": "markdown",
      "source": [
        "**Question 2: What is the difference between String and Variable**\n",
        "\n",
        "**String:** It can be a intended length of charecters enclosed in a single \n",
        "            quotes'', double quotes \" \", or triple quotes \"' \"'.  \n",
        "\n",
        "\n",
        "**Variable:** A variable is used to store the data. Data stored can be of any type String, int, float,bool\n",
        "\n",
        "x = 20\n",
        "x --> is a variable, which stores the value of 20 in it."
      ],
      "metadata": {
        "id": "x3vIfwYODfl1"
      }
    },
    {
      "cell_type": "markdown",
      "source": [
        "**Question 3: Describe three different data types.**\n",
        "\n",
        " There are 3 different data types in python. \n",
        "1. String \n",
        "2. Numerical\n",
        "3. Boolean \n",
        "\n",
        "**String Data type:** It is a collection of letters numbers and symbols eclosed in single quotes ' ', double quotes \" \" and triple quotes \"' \"'\n",
        "\n",
        "**Numercal Data types:** There are 3 types numerical data which can be stored, (i) Integer type, (ii) Float type (iii) Complex type - a +/- ij\n",
        "\n",
        "**Boolean data type:** True and False are two values which are part of Boolean data type. Numerical value of True is 1 and False is 0"
      ],
      "metadata": {
        "id": "gpg1RVACGvDt"
      }
    },
    {
      "cell_type": "code",
      "source": [
        "type()"
      ],
      "metadata": {
        "colab": {
          "base_uri": "https://localhost:8080/"
        },
        "id": "hAKK_fdwDncy",
        "outputId": "8c0da98a-85f8-427d-9b18-66c55d90e383"
      },
      "execution_count": null,
      "outputs": [
        {
          "output_type": "execute_result",
          "data": {
            "text/plain": [
              "str"
            ]
          },
          "metadata": {},
          "execution_count": 17
        }
      ]
    },
    {
      "cell_type": "markdown",
      "source": [
        "**Question 4: What is an expression made up of? What do all expressions do?**\n",
        "\n",
        "A expression is a combination of Operators and operands which produces some other value.\n",
        "\n",
        "If we have more than one operator in the expression, their precendence decides which operation will be performed first.\n",
        "\n",
        "1. Arithmatic Expressions\n",
        "2. Logical Expressions \n",
        "3. Combinational expressions \n",
        "    \n",
        "    (Combination of Arithmatic and Logical Expressions)\n",
        "\n"
      ],
      "metadata": {
        "id": "Fx9dk3xfOiTC"
      }
    },
    {
      "cell_type": "code",
      "source": [
        "# 1. Arithmatic Expression\n",
        "x = 10 + 20\n",
        "print('Result of arithmatic expression is:',x)\n",
        "\n",
        "\n",
        "# 2. Logical Expressions\n",
        "y= True and False \n",
        "print('Result of logical expression is:',y)"
      ],
      "metadata": {
        "id": "H7fy32TvEoxm",
        "colab": {
          "base_uri": "https://localhost:8080/"
        },
        "outputId": "a53bf1bc-bfb7-43f9-d0c2-38a4c19db7ea"
      },
      "execution_count": null,
      "outputs": [
        {
          "output_type": "stream",
          "name": "stdout",
          "text": [
            "Result of arithmatic expression is: 30\n",
            "Result of logical expression is: False\n"
          ]
        }
      ]
    },
    {
      "cell_type": "code",
      "source": [
        "#2. Combination of Arithmetic and Logical Expression \n",
        "x=float(input('Enter first number'))\n",
        "y=float(input('Enter second number'))\n",
        "z=float(input('Enter third number'))\n",
        "\n",
        "if (x>y) and (x>z):\n",
        "  print('Largest number is: {}'.format(x))\n",
        "\n",
        "elif (y>x) and (y>z):\n",
        "  print('Largest number is {}'.format(y))\n",
        "\n",
        "else:\n",
        "  print('Largest number is {}'.format(z))"
      ],
      "metadata": {
        "colab": {
          "base_uri": "https://localhost:8080/"
        },
        "id": "69uBnX1sNKbf",
        "outputId": "11a87fff-b7e4-4e89-f2e2-aaac2608f557"
      },
      "execution_count": null,
      "outputs": [
        {
          "output_type": "stream",
          "name": "stdout",
          "text": [
            "Enter first number10\n",
            "Enter second number20\n",
            "Enter third number30\n",
            "Largest number is 30.0\n"
          ]
        }
      ]
    },
    {
      "cell_type": "code",
      "source": [
        "x=float(input('Enter first number'))\n",
        "y=float(input('Enter second number'))\n",
        "z=float(input('Enter third number'))\n",
        "\n",
        "if (x>y) and (x>z):\n",
        "  print('Largest number is: {}'.format(x))\n",
        "\n",
        "elif (y>x) and (y>z):\n",
        "  print('Largest number is {}'.format(y))\n",
        "\n",
        "else:\n",
        "  print('Largest number is {}'.format(z))"
      ],
      "metadata": {
        "colab": {
          "base_uri": "https://localhost:8080/"
        },
        "id": "Cko7JdRtRg3n",
        "outputId": "edfeb566-05d3-40f6-a18e-7d64d8da710e"
      },
      "execution_count": null,
      "outputs": [
        {
          "output_type": "stream",
          "name": "stdout",
          "text": [
            "Enter first number10\n",
            "Enter second number20\n",
            "Enter third number30\n",
            "Largest number is 30.0\n"
          ]
        }
      ]
    },
    {
      "cell_type": "markdown",
      "source": [
        "**Question 5: This assignment statements, like spam = 10. What is the difference between an expression and a statement?**\n",
        "\n",
        "Statement can be assigning a value or simply declaring a variable.\n",
        "\n",
        "But, expression after execution always give a value as output."
      ],
      "metadata": {
        "id": "MyXd6XTXT2N-"
      }
    },
    {
      "cell_type": "markdown",
      "source": [
        "**Question 6: After running the following code, what does the variable bacon contain?\n",
        "bacon = 22\n",
        "bacon + 1**"
      ],
      "metadata": {
        "id": "_PunfPGtUdkN"
      }
    },
    {
      "cell_type": "code",
      "source": [
        "bacon = 22\n",
        "bacon+1\n",
        "print(bacon)"
      ],
      "metadata": {
        "colab": {
          "base_uri": "https://localhost:8080/"
        },
        "id": "-CSnNI3UUq0I",
        "outputId": "b1f5457d-9e45-43cc-9f87-d66182fec2fc"
      },
      "execution_count": null,
      "outputs": [
        {
          "output_type": "stream",
          "name": "stdout",
          "text": [
            "22\n"
          ]
        }
      ]
    },
    {
      "cell_type": "markdown",
      "source": [
        "**Question 7: What should the values of the following two terms be?\n",
        "'spam' + 'spamspam'\n",
        "'spam' * 3**\n",
        "\n",
        "'spam'+'spamspam' = spamspamspam\n",
        "\n",
        "'spam'*3=spamspamspam"
      ],
      "metadata": {
        "id": "vkteOMNFVNSf"
      }
    },
    {
      "cell_type": "code",
      "source": [
        "y='spam'+'spamspam'\n",
        "print(y)\n",
        "x='spam'*3\n",
        "print(x)"
      ],
      "metadata": {
        "colab": {
          "base_uri": "https://localhost:8080/"
        },
        "id": "cJkK4hkUTn8I",
        "outputId": "e36dbdca-3461-482f-f09a-84e8c7a8d49b"
      },
      "execution_count": null,
      "outputs": [
        {
          "output_type": "stream",
          "name": "stdout",
          "text": [
            "spamspamspam\n",
            "spamspamspam\n"
          ]
        }
      ]
    },
    {
      "cell_type": "markdown",
      "source": [
        "**Question 8: Why is eggs a valid variable name while 100 is invalid?**\n",
        "\n",
        "**Logic 1**\n",
        "When we use a number as identifier, as python is a dynamically typed programming language, it declares the number as 'int' when we assign a value using '=' symbol it starts comparing WHETHER 100 = 120 (for example).\n"
      ],
      "metadata": {
        "id": "qbQZhY14YEva"
      }
    },
    {
      "cell_type": "code",
      "source": [
        "100 = 120"
      ],
      "metadata": {
        "colab": {
          "base_uri": "https://localhost:8080/",
          "height": 130
        },
        "id": "gkKQFGxxT0_Y",
        "outputId": "10a1f12c-32f9-4fa1-ba7d-ababec1351f1"
      },
      "execution_count": null,
      "outputs": [
        {
          "output_type": "error",
          "ename": "SyntaxError",
          "evalue": "ignored",
          "traceback": [
            "\u001b[0;36m  File \u001b[0;32m\"<ipython-input-1-094ff591570a>\"\u001b[0;36m, line \u001b[0;32m1\u001b[0m\n\u001b[0;31m    100 = 120\u001b[0m\n\u001b[0m    ^\u001b[0m\n\u001b[0;31mSyntaxError\u001b[0m\u001b[0;31m:\u001b[0m cannot assign to literal here. Maybe you meant '==' instead of '='?\n"
          ]
        }
      ]
    },
    {
      "cell_type": "markdown",
      "source": [
        "**Question 9: What three functions can be used to get the integer, floating-point number, or string version of a value?**\n",
        "\n",
        "int() --> to get integer \n",
        "\n",
        "float() --> to get floating point number\n",
        "\n",
        "str() --> to get the string "
      ],
      "metadata": {
        "id": "F0qr75ohXR8S"
      }
    },
    {
      "cell_type": "markdown",
      "source": [
        "**Question 10: Why does this expression cause an error? How can you fix it?\n",
        "'I have eaten ' + 99 + ' burritos.'**\n",
        "\n",
        "'I have eaten ' + 99 + ' burritos '  --> Python does not allow String and numerical concatination.\n",
        "\n",
        "To allow concatination we have to convert number into string. 99 --> '99' "
      ],
      "metadata": {
        "id": "o3iwkfGAYWJi"
      }
    },
    {
      "cell_type": "code",
      "source": [],
      "metadata": {
        "id": "2dqJLNVDS7XS"
      },
      "execution_count": null,
      "outputs": []
    },
    {
      "cell_type": "code",
      "source": [
        "'I have eaten'+ 99 + 'burritos'"
      ],
      "metadata": {
        "id": "ysiicmlZWMlS",
        "colab": {
          "base_uri": "https://localhost:8080/",
          "height": 166
        },
        "outputId": "c253b5c2-e4ae-49a8-9cfd-b0834ed3f1a4"
      },
      "execution_count": null,
      "outputs": [
        {
          "output_type": "error",
          "ename": "TypeError",
          "evalue": "ignored",
          "traceback": [
            "\u001b[0;31m---------------------------------------------------------------------------\u001b[0m",
            "\u001b[0;31mTypeError\u001b[0m                                 Traceback (most recent call last)",
            "\u001b[0;32m<ipython-input-13-b80733edc191>\u001b[0m in \u001b[0;36m<cell line: 1>\u001b[0;34m()\u001b[0m\n\u001b[0;32m----> 1\u001b[0;31m \u001b[0;34m'I have eaten'\u001b[0m\u001b[0;34m+\u001b[0m \u001b[0;36m99\u001b[0m \u001b[0;34m+\u001b[0m \u001b[0;34m'burritos'\u001b[0m\u001b[0;34m\u001b[0m\u001b[0;34m\u001b[0m\u001b[0m\n\u001b[0m",
            "\u001b[0;31mTypeError\u001b[0m: can only concatenate str (not \"int\") to str"
          ]
        }
      ]
    },
    {
      "cell_type": "code",
      "source": [
        "'I have eaten ' + '99' + ' burritos'"
      ],
      "metadata": {
        "colab": {
          "base_uri": "https://localhost:8080/",
          "height": 35
        },
        "id": "sLWnYlKZZWEN",
        "outputId": "98ee9670-6e36-4927-9a6a-e56fdbf982b4"
      },
      "execution_count": null,
      "outputs": [
        {
          "output_type": "execute_result",
          "data": {
            "text/plain": [
              "'I have eaten 99 burritos'"
            ],
            "application/vnd.google.colaboratory.intrinsic+json": {
              "type": "string"
            }
          },
          "metadata": {},
          "execution_count": 15
        }
      ]
    },
    {
      "cell_type": "code",
      "source": [],
      "metadata": {
        "id": "kfrQNq5VZaz-"
      },
      "execution_count": null,
      "outputs": []
    }
  ]
}